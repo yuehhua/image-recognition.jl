{
 "cells": [
  {
   "cell_type": "markdown",
   "metadata": {},
   "source": [
    "# Image recognition in Julia"
   ]
  },
  {
   "cell_type": "markdown",
   "metadata": {},
   "source": [
    "## Introduction to Flux"
   ]
  },
  {
   "cell_type": "markdown",
   "metadata": {},
   "source": [
    "### Linear regression"
   ]
  },
  {
   "cell_type": "code",
   "execution_count": 1,
   "metadata": {},
   "outputs": [],
   "source": [
    "using Flux.Tracker\n",
    "using Flux\n",
    "using DelimitedFiles: readdlm"
   ]
  },
  {
   "cell_type": "code",
   "execution_count": 2,
   "metadata": {},
   "outputs": [
    {
     "data": {
      "text/plain": [
       "true"
      ]
     },
     "execution_count": 2,
     "metadata": {},
     "output_type": "execute_result"
    }
   ],
   "source": [
    "isfile(\"housing.data\") ||\n",
    "  download(\"https://raw.githubusercontent.com/MikeInnes/notebooks/master/housing.data\", \"housing.data\")"
   ]
  },
  {
   "cell_type": "markdown",
   "metadata": {},
   "source": [
    "#### Read data"
   ]
  },
  {
   "cell_type": "code",
   "execution_count": 3,
   "metadata": {},
   "outputs": [
    {
     "data": {
      "text/plain": [
       "14×505 LinearAlgebra.Adjoint{Float64,Array{Float64,2}}:\n",
       "   0.02731    0.02729    0.03237  …    0.06076    0.10959    0.04741\n",
       "   0.0        0.0        0.0           0.0        0.0        0.0    \n",
       "   7.07       7.07       2.18         11.93      11.93      11.93   \n",
       "   0.0        0.0        0.0           0.0        0.0        0.0    \n",
       "   0.469      0.469      0.458         0.573      0.573      0.573  \n",
       "   6.421      7.185      6.998    …    6.976      6.794      6.03   \n",
       "  78.9       61.1       45.8          91.0       89.3       80.8    \n",
       "   4.9671     4.9671     6.0622        2.1675     2.3889     2.505  \n",
       "   2.0        2.0        3.0           1.0        1.0        1.0    \n",
       " 242.0      242.0      222.0         273.0      273.0      273.0    \n",
       "  17.8       17.8       18.7      …   21.0       21.0       21.0    \n",
       " 396.9      392.83     394.63        396.9      393.45     396.9    \n",
       "   9.14       4.03       2.94          5.64       6.48       7.88   \n",
       "  21.6       34.7       33.4          23.9       22.0       11.9    "
      ]
     },
     "execution_count": 3,
     "metadata": {},
     "output_type": "execute_result"
    }
   ],
   "source": [
    "rawdata = readdlm(\"housing.data\")'"
   ]
  },
  {
   "cell_type": "code",
   "execution_count": 4,
   "metadata": {},
   "outputs": [
    {
     "data": {
      "text/plain": [
       "1×505 Array{Float64,2}:\n",
       " 21.6  34.7  33.4  36.2  28.7  22.9  …  16.8  22.4  20.6  23.9  22.0  11.9"
      ]
     },
     "execution_count": 4,
     "metadata": {},
     "output_type": "execute_result"
    }
   ],
   "source": [
    "x = rawdata[1:13,:]\n",
    "y = rawdata[14:14,:]"
   ]
  },
  {
   "cell_type": "code",
   "execution_count": 5,
   "metadata": {},
   "outputs": [
    {
     "data": {
      "text/plain": [
       "13×505 Array{Float64,2}:\n",
       " -0.417416  -0.417418  -0.416828  …  -0.41353   -0.407858  -0.415081\n",
       " -0.486234  -0.486234  -0.486234     -0.486234  -0.486234  -0.486234\n",
       " -0.595732  -0.595732  -1.30899       0.11315    0.11315    0.11315 \n",
       " -0.272618  -0.272618  -0.272618     -0.272618  -0.272618  -0.272618\n",
       " -0.739098  -0.739098  -0.833934      0.15753    0.15753    0.15753 \n",
       "  0.194741   1.28121    1.01528   …   0.983996   0.725177  -0.361293\n",
       "  0.366208  -0.265527  -0.808535      0.795646   0.735312   0.433641\n",
       "  0.556346   0.556346   1.0759       -0.771891  -0.66685   -0.611768\n",
       " -0.868939  -0.868939  -0.754097     -0.983782  -0.983782  -0.983782\n",
       " -0.987128  -0.987128  -1.10573      -0.803294  -0.803294  -0.803294\n",
       " -0.306024  -0.306024   0.110158  …   1.17373    1.17373    1.17373 \n",
       "  0.441136   0.396591   0.416291      0.441136   0.403377   0.441136\n",
       " -0.494157  -1.20985   -1.36251      -0.984357  -0.866709  -0.670629"
      ]
     },
     "execution_count": 5,
     "metadata": {},
     "output_type": "execute_result"
    }
   ],
   "source": [
    "using Statistics\n",
    "x = (x .- mean(x; dims=2)) ./ std(x; dims=2)"
   ]
  },
  {
   "cell_type": "markdown",
   "metadata": {},
   "source": [
    "#### Model"
   ]
  },
  {
   "cell_type": "code",
   "execution_count": 6,
   "metadata": {},
   "outputs": [
    {
     "data": {
      "text/plain": [
       "1"
      ]
     },
     "execution_count": 6,
     "metadata": {},
     "output_type": "execute_result"
    }
   ],
   "source": [
    "in_dim = size(x, 1)\n",
    "out_dim = size(y, 1)"
   ]
  },
  {
   "cell_type": "code",
   "execution_count": 7,
   "metadata": {},
   "outputs": [
    {
     "data": {
      "text/plain": [
       "Tracked 1-element Array{Float64,1}:\n",
       " 0.0"
      ]
     },
     "execution_count": 7,
     "metadata": {},
     "output_type": "execute_result"
    }
   ],
   "source": [
    "predict(x) = W*x .+ b\n",
    "W = param(randn(out_dim, in_dim) / 10)\n",
    "b = param(zeros(out_dim))"
   ]
  },
  {
   "cell_type": "code",
   "execution_count": 8,
   "metadata": {},
   "outputs": [
    {
     "data": {
      "text/plain": [
       "error (generic function with 1 method)"
      ]
     },
     "execution_count": 8,
     "metadata": {},
     "output_type": "execute_result"
    }
   ],
   "source": [
    "error(ŷ, y) = sum((ŷ .- y).^2)/size(y, 2)"
   ]
  },
  {
   "cell_type": "code",
   "execution_count": 9,
   "metadata": {},
   "outputs": [
    {
     "data": {
      "text/plain": [
       "loss (generic function with 1 method)"
      ]
     },
     "execution_count": 9,
     "metadata": {},
     "output_type": "execute_result"
    }
   ],
   "source": [
    "loss(x, y) = error(predict(x), y)"
   ]
  },
  {
   "cell_type": "code",
   "execution_count": 10,
   "metadata": {},
   "outputs": [
    {
     "data": {
      "text/plain": [
       "update! (generic function with 2 methods)"
      ]
     },
     "execution_count": 10,
     "metadata": {},
     "output_type": "execute_result"
    }
   ],
   "source": [
    "function update!(ps, η = .1)\n",
    "    for w in ps\n",
    "        w.data .-= w.grad .* η\n",
    "        w.grad .= 0\n",
    "    end\n",
    "end"
   ]
  },
  {
   "cell_type": "markdown",
   "metadata": {},
   "source": [
    "#### Training"
   ]
  },
  {
   "cell_type": "code",
   "execution_count": 11,
   "metadata": {},
   "outputs": [
    {
     "name": "stdout",
     "output_type": "stream",
     "text": [
      "loss(x, y) = 368.73713763134253 (tracked)\n",
      "loss(x, y) = 242.90470526263246 (tracked)\n",
      "loss(x, y) = 163.6599378806958 (tracked)\n",
      "loss(x, y) = 113.18538960376684 (tracked)\n",
      "loss(x, y) = 80.96356350768635 (tracked)\n",
      "loss(x, y) = 60.3604867678749 (tracked)\n",
      "loss(x, y) = 47.16321665566758 (tracked)\n",
      "loss(x, y) = 38.691666012178324 (tracked)\n",
      "loss(x, y) = 33.23887337721578 (tracked)\n",
      "loss(x, y) = 29.716564518059297 (tracked)\n",
      "loss(x, y) = 27.430277827982 (tracked)\n",
      "loss(x, y) = 25.93648163014644 (tracked)\n",
      "loss(x, y) = 24.951675053259876 (tracked)\n",
      "loss(x, y) = 24.29449802536281 (tracked)\n",
      "loss(x, y) = 23.848829414920033 (tracked)\n",
      "loss(x, y) = 23.540245090734963 (tracked)\n",
      "loss(x, y) = 23.320988425156337 (tracked)\n",
      "loss(x, y) = 23.160369154832527 (tracked)\n",
      "loss(x, y) = 23.038626416489812 (tracked)\n",
      "loss(x, y) = 22.943003912571843 (tracked)\n",
      "loss(x, y) = 22.865238495620318 (tracked)\n",
      "loss(x, y) = 22.799952313678855 (tracked)\n",
      "loss(x, y) = 22.743622857356208 (tracked)\n",
      "loss(x, y) = 22.69392279228906 (tracked)\n",
      "loss(x, y) = 22.64929651475418 (tracked)\n",
      "loss(x, y) = 22.608688317794716 (tracked)\n",
      "loss(x, y) = 22.57136770349463 (tracked)\n",
      "loss(x, y) = 22.53681697526263 (tracked)\n",
      "loss(x, y) = 22.504658781246736 (tracked)\n",
      "loss(x, y) = 22.47460930329562 (tracked)\n",
      "loss(x, y) = 22.446447922300962 (tracked)\n",
      "loss(x, y) = 22.41999748020121 (tracked)\n",
      "loss(x, y) = 22.395111366297026 (tracked)\n",
      "loss(x, y) = 22.37166500611008 (tracked)\n",
      "loss(x, y) = 22.34955019692482 (tracked)\n",
      "loss(x, y) = 22.328671289560507 (tracked)\n",
      "loss(x, y) = 22.308942572342122 (tracked)\n",
      "loss(x, y) = 22.29028644209263 (tracked)\n",
      "loss(x, y) = 22.27263209401211 (tracked)\n",
      "loss(x, y) = 22.255914556862823 (tracked)\n",
      "loss(x, y) = 22.24007396073934 (tracked)\n",
      "loss(x, y) = 22.225054963925608 (tracked)\n",
      "loss(x, y) = 22.210806290656826 (tracked)\n",
      "loss(x, y) = 22.1972803479772 (tracked)\n",
      "loss(x, y) = 22.1844329005009 (tracked)\n",
      "loss(x, y) = 22.172222788790123 (tracked)\n",
      "loss(x, y) = 22.160611681576157 (tracked)\n",
      "loss(x, y) = 22.149563855014566 (tracked)\n",
      "loss(x, y) = 22.139045994126544 (tracked)\n",
      "loss(x, y) = 22.129027012889665 (tracked)\n"
     ]
    }
   ],
   "source": [
    "for i = 1:50\n",
    "    back!(loss(x, y))\n",
    "    update!((W, b))\n",
    "    @show loss(x, y)\n",
    "end"
   ]
  },
  {
   "cell_type": "markdown",
   "metadata": {},
   "source": [
    "#### Predict"
   ]
  },
  {
   "cell_type": "code",
   "execution_count": 12,
   "metadata": {},
   "outputs": [
    {
     "data": {
      "text/plain": [
       "Tracked 1-element Array{Float64,1}:\n",
       " 1.1574200155419858"
      ]
     },
     "execution_count": 12,
     "metadata": {},
     "output_type": "execute_result"
    }
   ],
   "source": [
    "predict(x[:, 1]) / y[1]"
   ]
  },
  {
   "cell_type": "markdown",
   "metadata": {},
   "source": [
    "## Training image recognition model"
   ]
  },
  {
   "cell_type": "code",
   "execution_count": 13,
   "metadata": {},
   "outputs": [],
   "source": [
    "using Flux, Flux.Data.MNIST\n",
    "using Flux: @epochs, onehotbatch, onecold, crossentropy, throttle\n",
    "using Base.Iterators: repeated, partition\n",
    "using Statistics: mean\n",
    "# using CuArrays"
   ]
  },
  {
   "cell_type": "markdown",
   "metadata": {},
   "source": [
    "#### Load data and preprocessing"
   ]
  },
  {
   "cell_type": "code",
   "execution_count": 14,
   "metadata": {},
   "outputs": [
    {
     "data": {
      "text/plain": [
       "128"
      ]
     },
     "execution_count": 14,
     "metadata": {},
     "output_type": "execute_result"
    }
   ],
   "source": [
    "batch_size = 128"
   ]
  },
  {
   "cell_type": "code",
   "execution_count": 15,
   "metadata": {},
   "outputs": [
    {
     "data": {
      "text/plain": [
       "minibatch (generic function with 1 method)"
      ]
     },
     "execution_count": 15,
     "metadata": {},
     "output_type": "execute_result"
    }
   ],
   "source": [
    "function minibatch(X, Y, idxs)\n",
    "    X_batch = Array{Float32}(undef, size(X[1])..., 1, length(idxs))\n",
    "    for i in 1:length(idxs)\n",
    "        X_batch[:, :, :, i] = Float32.(X[idxs[i]])\n",
    "    end\n",
    "    Y_batch = onehotbatch(Y[idxs], 0:9)\n",
    "    return (X_batch, Y_batch)\n",
    "end"
   ]
  },
  {
   "cell_type": "code",
   "execution_count": 16,
   "metadata": {},
   "outputs": [],
   "source": [
    "train_labels = MNIST.labels()\n",
    "train_imgs = MNIST.images()\n",
    "mb_idxs = partition(1:length(train_imgs), batch_size)\n",
    "train = [minibatch(train_imgs, train_labels, i) for i in mb_idxs];"
   ]
  },
  {
   "cell_type": "code",
   "execution_count": 17,
   "metadata": {},
   "outputs": [],
   "source": [
    "test_imgs = MNIST.images(:test)\n",
    "test_labels = MNIST.labels(:test)\n",
    "test = minibatch(test_imgs, test_labels, 1:length(test_imgs));"
   ]
  },
  {
   "cell_type": "markdown",
   "metadata": {},
   "source": [
    "#### Model"
   ]
  },
  {
   "cell_type": "code",
   "execution_count": 18,
   "metadata": {},
   "outputs": [
    {
     "data": {
      "text/plain": [
       "Chain(Conv((3, 3), 1=>16, NNlib.relu), MaxPool((2, 2), pad = (0, 0, 0, 0), stride = (2, 2)), Conv((3, 3), 16=>32, NNlib.relu), MaxPool((2, 2), pad = (0, 0, 0, 0), stride = (2, 2)), Conv((3, 3), 32=>32, NNlib.relu), MaxPool((2, 2), pad = (0, 0, 0, 0), stride = (2, 2)), getfield(Main, Symbol(\"##5#6\"))(), Dense(800, 10), NNlib.softmax)"
      ]
     },
     "execution_count": 18,
     "metadata": {},
     "output_type": "execute_result"
    }
   ],
   "source": [
    "model = Chain(\n",
    "    Conv((3, 3), 1=>16, pad=(2,2), relu),\n",
    "    MaxPool((2, 2)),\n",
    "    Conv((3, 3), 16=>32, pad=(2,2), relu),\n",
    "    MaxPool((2, 2)),\n",
    "    Conv((3, 3), 32=>32, pad=(2,2), relu),\n",
    "    MaxPool((2, 2)),\n",
    "    x -> reshape(x, :, size(x, 4)),\n",
    "    Dense(800, 10), softmax)"
   ]
  },
  {
   "cell_type": "code",
   "execution_count": 19,
   "metadata": {},
   "outputs": [
    {
     "data": {
      "text/plain": [
       "Tracked 10×128 Array{Float32,2}:\n",
       " 0.0368724    0.130336     0.00507068  0.388271    …  0.0302351    0.110079  \n",
       " 0.022705     0.0455846    0.0374525   0.19131        0.011452     0.0684349 \n",
       " 0.000584813  0.0034824    0.0148576   0.0014479      0.000692421  0.0034748 \n",
       " 0.00147608   0.0029834    0.0011707   0.0199318      0.000606448  0.00833279\n",
       " 0.00228483   0.00555993   0.00304258  0.00227664     0.000566299  0.00408492\n",
       " 0.000662726  0.000421997  0.00129102  0.00525391  …  0.000558556  0.00321902\n",
       " 0.00696284   0.0261311    0.0148321   0.0200633      0.00306733   0.00486249\n",
       " 0.000841722  0.0105874    0.00231068  0.00513339     0.000528892  0.00503813\n",
       " 0.894514     0.705336     0.859029    0.300797       0.889939     0.587818  \n",
       " 0.0330951    0.0695779    0.0609432   0.0655144      0.0623538    0.204655  "
      ]
     },
     "execution_count": 19,
     "metadata": {},
     "output_type": "execute_result"
    }
   ],
   "source": [
    "model(train[1][1])"
   ]
  },
  {
   "cell_type": "markdown",
   "metadata": {},
   "source": [
    "#### If you have CUDA..."
   ]
  },
  {
   "cell_type": "code",
   "execution_count": 20,
   "metadata": {},
   "outputs": [],
   "source": [
    "# train = gpu.(train)\n",
    "# test = gpu.(test)\n",
    "# model = gpu(model)"
   ]
  },
  {
   "cell_type": "markdown",
   "metadata": {},
   "source": [
    "#### Loss function"
   ]
  },
  {
   "cell_type": "code",
   "execution_count": 21,
   "metadata": {},
   "outputs": [
    {
     "data": {
      "text/plain": [
       "loss (generic function with 1 method)"
      ]
     },
     "execution_count": 21,
     "metadata": {},
     "output_type": "execute_result"
    }
   ],
   "source": [
    "loss(x, y) = crossentropy(model(x), y)"
   ]
  },
  {
   "cell_type": "code",
   "execution_count": 22,
   "metadata": {},
   "outputs": [
    {
     "data": {
      "text/plain": [
       "accuracy (generic function with 1 method)"
      ]
     },
     "execution_count": 22,
     "metadata": {},
     "output_type": "execute_result"
    }
   ],
   "source": [
    "accuracy(x, y) = mean(onecold(model(x)) .== onecold(y))"
   ]
  },
  {
   "cell_type": "markdown",
   "metadata": {},
   "source": [
    "#### Optimizer"
   ]
  },
  {
   "cell_type": "code",
   "execution_count": 23,
   "metadata": {},
   "outputs": [
    {
     "data": {
      "text/plain": [
       "ADAM(0.001, (0.9, 0.999), IdDict{Any,Any}())"
      ]
     },
     "execution_count": 23,
     "metadata": {},
     "output_type": "execute_result"
    }
   ],
   "source": [
    "evalcb() = @show(accuracy(test[1], test[2]))\n",
    "opt = ADAM()"
   ]
  },
  {
   "cell_type": "code",
   "execution_count": 24,
   "metadata": {},
   "outputs": [
    {
     "data": {
      "text/plain": [
       "4.6231046f0 (tracked)"
      ]
     },
     "execution_count": 24,
     "metadata": {},
     "output_type": "execute_result"
    }
   ],
   "source": [
    "loss(train[1][1], train[1][2])"
   ]
  },
  {
   "cell_type": "markdown",
   "metadata": {},
   "source": [
    "#### Training"
   ]
  },
  {
   "cell_type": "code",
   "execution_count": 25,
   "metadata": {},
   "outputs": [
    {
     "name": "stderr",
     "output_type": "stream",
     "text": [
      "┌ Info: Epoch 1\n",
      "└ @ Main /home/pika/.julia/packages/Flux/qXNjB/src/optimise/train.jl:105\n"
     ]
    },
    {
     "name": "stdout",
     "output_type": "stream",
     "text": [
      "accuracy(test[1], test[2]) = 0.1187\n",
      "accuracy(test[1], test[2]) = 0.5855\n",
      "accuracy(test[1], test[2]) = 0.784\n",
      "accuracy(test[1], test[2]) = 0.8828\n",
      "accuracy(test[1], test[2]) = 0.9052\n",
      "accuracy(test[1], test[2]) = 0.9189\n",
      "accuracy(test[1], test[2]) = 0.9336\n"
     ]
    },
    {
     "ename": "InterruptException",
     "evalue": "InterruptException:",
     "output_type": "error",
     "traceback": [
      "InterruptException:",
      "",
      "Stacktrace:",
      " [1] _forward(::typeof(maxpool), ::TrackedArray{…,Array{Float32,4}}, ::PoolDims{2,(2, 2),(2, 2),(0, 0, 0, 0),(1, 1)}) at /home/pika/.julia/packages/Tracker/rQ0eB/src/lib/array.jl:441",
      " [2] #track#1(::Base.Iterators.Pairs{Union{},Union{},Tuple{},NamedTuple{(),Tuple{}}}, ::Function, ::typeof(maxpool), ::TrackedArray{…,Array{Float32,4}}, ::Vararg{Any,N} where N) at /home/pika/.julia/packages/Tracker/rQ0eB/src/Tracker.jl:51",
      " [3] track at /home/pika/.julia/packages/Tracker/rQ0eB/src/Tracker.jl:51 [inlined]",
      " [4] #maxpool#524 at /home/pika/.julia/packages/Tracker/rQ0eB/src/lib/array.jl:437 [inlined]",
      " [5] maxpool at /home/pika/.julia/packages/Tracker/rQ0eB/src/lib/array.jl:437 [inlined]",
      " [6] MaxPool at /home/pika/.julia/packages/Flux/qXNjB/src/layers/conv.jl:224 [inlined]",
      " [7] applychain(::Tuple{MaxPool{2,4},Conv{2,2,typeof(relu),TrackedArray{…,Array{Float32,4}},TrackedArray{…,Array{Float32,1}}},MaxPool{2,4},getfield(Main, Symbol(\"##5#6\")),Dense{typeof(identity),TrackedArray{…,Array{Float32,2}},TrackedArray{…,Array{Float32,1}}},typeof(softmax)}, ::TrackedArray{…,Array{Float32,4}}) at /home/pika/.julia/packages/Flux/qXNjB/src/layers/basic.jl:31 (repeats 4 times)",
      " [8] (::Chain{Tuple{Conv{2,2,typeof(relu),TrackedArray{…,Array{Float32,4}},TrackedArray{…,Array{Float32,1}}},MaxPool{2,4},Conv{2,2,typeof(relu),TrackedArray{…,Array{Float32,4}},TrackedArray{…,Array{Float32,1}}},MaxPool{2,4},Conv{2,2,typeof(relu),TrackedArray{…,Array{Float32,4}},TrackedArray{…,Array{Float32,1}}},MaxPool{2,4},getfield(Main, Symbol(\"##5#6\")),Dense{typeof(identity),TrackedArray{…,Array{Float32,2}},TrackedArray{…,Array{Float32,1}}},typeof(softmax)}})(::Array{Float32,4}) at /home/pika/.julia/packages/Flux/qXNjB/src/layers/basic.jl:33",
      " [9] accuracy(::Array{Float32,4}, ::Flux.OneHotMatrix{Array{Flux.OneHotVector,1}}) at ./In[22]:1",
      " [10] macro expansion at ./show.jl:555 [inlined]",
      " [11] evalcb() at ./In[23]:1",
      " [12] (::getfield(Flux, Symbol(\"##throttled#10#14\")){Bool,Bool,typeof(evalcb),Int64})(::Base.Iterators.Pairs{Union{},Union{},Tuple{},NamedTuple{(),Tuple{}}}, ::Function) at /home/pika/.julia/packages/Flux/qXNjB/src/utils.jl:120",
      " [13] throttled at /home/pika/.julia/packages/Flux/qXNjB/src/utils.jl:116 [inlined]",
      " [14] macro expansion at /home/pika/.julia/packages/Flux/qXNjB/src/optimise/train.jl:75 [inlined]",
      " [15] macro expansion at /home/pika/.julia/packages/Juno/TfNYn/src/progress.jl:133 [inlined]",
      " [16] #train!#12(::getfield(Flux, Symbol(\"#throttled#18\")){getfield(Flux, Symbol(\"##throttled#10#14\")){Bool,Bool,typeof(evalcb),Int64}}, ::Function, ::Function, ::Params, ::Array{Tuple{Array{Float32,4},Flux.OneHotMatrix{Array{Flux.OneHotVector,1}}},1}, ::ADAM) at /home/pika/.julia/packages/Flux/qXNjB/src/optimise/train.jl:69",
      " [17] (::getfield(Flux.Optimise, Symbol(\"#kw##train!\")))(::NamedTuple{(:cb,),Tuple{getfield(Flux, Symbol(\"#throttled#18\")){getfield(Flux, Symbol(\"##throttled#10#14\")){Bool,Bool,typeof(evalcb),Int64}}}}, ::typeof(Flux.Optimise.train!), ::Function, ::Params, ::Array{Tuple{Array{Float32,4},Flux.OneHotMatrix{Array{Flux.OneHotVector,1}}},1}, ::ADAM) at ./none:0",
      " [18] top-level scope at /home/pika/.julia/packages/Flux/qXNjB/src/optimise/train.jl:106",
      " [19] top-level scope at /home/pika/.julia/packages/Juno/TfNYn/src/progress.jl:133",
      " [20] top-level scope at In[25]:1"
     ]
    }
   ],
   "source": [
    "@epochs 10 Flux.train!(loss, params(model), train, opt, cb=throttle(evalcb, 10))"
   ]
  },
  {
   "cell_type": "markdown",
   "metadata": {},
   "source": [
    "## Use pre-trained models"
   ]
  },
  {
   "cell_type": "code",
   "execution_count": 28,
   "metadata": {},
   "outputs": [
    {
     "name": "stderr",
     "output_type": "stream",
     "text": [
      "┌ Info: Precompiling Metalhead [dbeba491-748d-5e0e-a39e-b530a07fa0cc]\n",
      "└ @ Base loading.jl:1186\n",
      "WARNING: using Metalhead.predict in module Main conflicts with an existing identifier.\n"
     ]
    }
   ],
   "source": [
    "using Metalhead\n",
    "using Metalhead: classify"
   ]
  },
  {
   "cell_type": "code",
   "execution_count": 32,
   "metadata": {},
   "outputs": [
    {
     "name": "stderr",
     "output_type": "stream",
     "text": [
      "  % Total    % Received % Xferd  Average Speed   Time    Time     Time  Current\n",
      "                                 Dload  Upload   Total   Spent    Left  Speed\n",
      " 99  162M   99  162M    0     0  1743k      0  0:01:35  0:01:35 --:--:-- 2430k"
     ]
    },
    {
     "name": "stdout",
     "output_type": "stream",
     "text": [
      "cifar-10-batches-bin/\n",
      "cifar-10-batches-bin/data_batch_1.bin\n"
     ]
    },
    {
     "name": "stderr",
     "output_type": "stream",
     "text": [
      "100  162M  100  162M    0     0  1743k      0  0:01:35  0:01:35 --:--:-- 2508k\n"
     ]
    },
    {
     "name": "stdout",
     "output_type": "stream",
     "text": [
      "cifar-10-batches-bin/batches.meta.txt\n",
      "cifar-10-batches-bin/data_batch_3.bin\n",
      "cifar-10-batches-bin/data_batch_4.bin\n",
      "cifar-10-batches-bin/test_batch.bin\n",
      "cifar-10-batches-bin/readme.html\n",
      "cifar-10-batches-bin/data_batch_5.bin\n",
      "cifar-10-batches-bin/data_batch_2.bin\n"
     ]
    },
    {
     "data": {
      "text/plain": [
       "Process(`\u001b[4mtar\u001b[24m \u001b[4m-xzvf\u001b[24m \u001b[4m/home/pika/.julia/packages/Metalhead/fYeSU/src/datasets/../../datasets/cifar-10-binary.tar.gz\u001b[24m \u001b[4m-C\u001b[24m \u001b[4m/home/pika/.julia/packages/Metalhead/fYeSU/src/datasets/../../datasets\u001b[24m`, ProcessExited(0))"
      ]
     },
     "execution_count": 32,
     "metadata": {},
     "output_type": "execute_result"
    }
   ],
   "source": [
    "Metalhead.download(CIFAR10)"
   ]
  },
  {
   "cell_type": "code",
   "execution_count": 29,
   "metadata": {},
   "outputs": [
    {
     "name": "stderr",
     "output_type": "stream",
     "text": [
      "  % Total    % Received % Xferd  Average Speed   Time    Time     Time  Current\n",
      "                                 Dload  Upload   Total   Spent    Left  Speed\n",
      "100   601    0   601    0     0    662      0 --:--:-- --:--:-- --:--:--   661\n",
      "100  548M  100  548M    0     0  3177k      0  0:02:56  0:02:56 --:--:-- 3645k\n",
      "┌ Info: Recompiling stale cache file /home/pika/.julia/compiled/v1.1/ImageMagick/0LbNX.ji for ImageMagick [6218d12a-5da1-5696-b52f-db25d2ecc6d1]\n",
      "└ @ Base loading.jl:1184\n",
      "Error encountered while loading \"Elephant.jpg\".\n",
      "Fatal error:\n"
     ]
    },
    {
     "ename": "ErrorException",
     "evalue": "UnableToOpenBlob `Elephant.jpg': 沒有此一檔案或目錄 @ error/blob.c/OpenBlob/2873",
     "output_type": "error",
     "traceback": [
      "UnableToOpenBlob `Elephant.jpg': 沒有此一檔案或目錄 @ error/blob.c/OpenBlob/2873",
      "",
      "Stacktrace:",
      " [1] handle_error(::ErrorException, ::FileIO.File{FileIO.DataFormat{:JPEG}}) at /home/pika/.julia/packages/FileIO/e8FNK/src/error_handling.jl:80",
      " [2] handle_exceptions(::Array{Any,1}, ::String) at /home/pika/.julia/packages/FileIO/e8FNK/src/error_handling.jl:75",
      " [3] #load#27(::Base.Iterators.Pairs{Union{},Union{},Tuple{},NamedTuple{(),Tuple{}}}, ::Function, ::FileIO.File{FileIO.DataFormat{:JPEG}}) at /home/pika/.julia/packages/FileIO/e8FNK/src/loadsave.jl:193",
      " [4] load(::FileIO.File{FileIO.DataFormat{:JPEG}}) at /home/pika/.julia/packages/FileIO/e8FNK/src/loadsave.jl:172",
      " [5] #load#13(::Base.Iterators.Pairs{Union{},Union{},Tuple{},NamedTuple{(),Tuple{}}}, ::Function, ::String) at /home/pika/.julia/packages/FileIO/e8FNK/src/loadsave.jl:118",
      " [6] load(::String) at /home/pika/.julia/packages/FileIO/e8FNK/src/loadsave.jl:118",
      " [7] top-level scope at In[29]:2"
     ]
    }
   ],
   "source": [
    "vgg = VGG19()\n",
    "sample = load(\"Elephant.jpg\")"
   ]
  },
  {
   "cell_type": "code",
   "execution_count": 30,
   "metadata": {},
   "outputs": [
    {
     "ename": "UndefVarError",
     "evalue": "UndefVarError: sample not defined",
     "output_type": "error",
     "traceback": [
      "UndefVarError: sample not defined",
      "",
      "Stacktrace:",
      " [1] top-level scope at In[30]:1"
     ]
    }
   ],
   "source": [
    "classify(vgg, sample)"
   ]
  },
  {
   "cell_type": "code",
   "execution_count": 31,
   "metadata": {},
   "outputs": [
    {
     "data": {
      "text/plain": [
       "Chain(Conv((3, 3), 3=>64, NNlib.relu), Conv((3, 3), 64=>64, NNlib.relu), getfield(Metalhead, Symbol(\"##42#48\"))(), Conv((3, 3), 64=>128, NNlib.relu), Conv((3, 3), 128=>128, NNlib.relu), getfield(Metalhead, Symbol(\"##43#49\"))(), Conv((3, 3), 128=>256, NNlib.relu), Conv((3, 3), 256=>256, NNlib.relu), Conv((3, 3), 256=>256, NNlib.relu), Conv((3, 3), 256=>256, NNlib.relu), getfield(Metalhead, Symbol(\"##44#50\"))(), Conv((3, 3), 256=>512, NNlib.relu), Conv((3, 3), 512=>512, NNlib.relu), Conv((3, 3), 512=>512, NNlib.relu), Conv((3, 3), 512=>512, NNlib.relu), getfield(Metalhead, Symbol(\"##45#51\"))(), Conv((3, 3), 512=>512, NNlib.relu), Conv((3, 3), 512=>512, NNlib.relu), Conv((3, 3), 512=>512, NNlib.relu), Conv((3, 3), 512=>512, NNlib.relu), getfield(Metalhead, Symbol(\"##46#52\"))(), getfield(Metalhead, Symbol(\"##47#53\"))(), Dense(25088, 4096, NNlib.relu), Dropout{Float32}(0.5f0, false), Dense(4096, 4096, NNlib.relu), Dropout{Float32}(0.5f0, false), Dense(4096, 1000), NNlib.softmax)"
      ]
     },
     "execution_count": 31,
     "metadata": {},
     "output_type": "execute_result"
    }
   ],
   "source": [
    "vgg.layers"
   ]
  },
  {
   "cell_type": "markdown",
   "metadata": {},
   "source": [
    "### Models available:\n",
    "\n",
    "* GoogLeNet\n",
    "* ResNet\n",
    "* VGG\n",
    "* SqueezeNet\n",
    "* DenseNet"
   ]
  }
 ],
 "metadata": {
  "kernelspec": {
   "display_name": "Julia 1.1.0",
   "language": "julia",
   "name": "julia-1.1"
  },
  "language_info": {
   "file_extension": ".jl",
   "mimetype": "application/julia",
   "name": "julia",
   "version": "1.1.0"
  }
 },
 "nbformat": 4,
 "nbformat_minor": 2
}
