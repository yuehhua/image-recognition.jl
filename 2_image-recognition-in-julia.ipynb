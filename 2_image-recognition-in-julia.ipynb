{
 "cells": [
  {
   "cell_type": "markdown",
   "metadata": {},
   "source": [
    "# Image recognition in Julia"
   ]
  },
  {
   "cell_type": "markdown",
   "metadata": {},
   "source": [
    "## Introduction to Flux"
   ]
  },
  {
   "cell_type": "markdown",
   "metadata": {},
   "source": [
    "### Linear regression"
   ]
  },
  {
   "cell_type": "code",
   "execution_count": 1,
   "metadata": {},
   "outputs": [
    {
     "name": "stderr",
     "output_type": "stream",
     "text": [
      "┌ Info: Precompiling Flux [587475ba-b771-5e3f-ad9e-33799f191a9c]\n",
      "└ @ Base loading.jl:1186\n"
     ]
    }
   ],
   "source": [
    "using Flux.Tracker\n",
    "using Flux\n",
    "using DelimitedFiles: readdlm"
   ]
  },
  {
   "cell_type": "code",
   "execution_count": 2,
   "metadata": {},
   "outputs": [
    {
     "data": {
      "text/plain": [
       "true"
      ]
     },
     "execution_count": 2,
     "metadata": {},
     "output_type": "execute_result"
    }
   ],
   "source": [
    "isfile(\"housing.data\") ||\n",
    "  download(\"https://raw.githubusercontent.com/MikeInnes/notebooks/master/housing.data\", \"housing.data\")"
   ]
  },
  {
   "cell_type": "markdown",
   "metadata": {},
   "source": [
    "#### Read data"
   ]
  },
  {
   "cell_type": "code",
   "execution_count": 3,
   "metadata": {},
   "outputs": [
    {
     "data": {
      "text/plain": [
       "14×505 LinearAlgebra.Adjoint{Float64,Array{Float64,2}}:\n",
       "   0.02731    0.02729    0.03237  …    0.06076    0.10959    0.04741\n",
       "   0.0        0.0        0.0           0.0        0.0        0.0    \n",
       "   7.07       7.07       2.18         11.93      11.93      11.93   \n",
       "   0.0        0.0        0.0           0.0        0.0        0.0    \n",
       "   0.469      0.469      0.458         0.573      0.573      0.573  \n",
       "   6.421      7.185      6.998    …    6.976      6.794      6.03   \n",
       "  78.9       61.1       45.8          91.0       89.3       80.8    \n",
       "   4.9671     4.9671     6.0622        2.1675     2.3889     2.505  \n",
       "   2.0        2.0        3.0           1.0        1.0        1.0    \n",
       " 242.0      242.0      222.0         273.0      273.0      273.0    \n",
       "  17.8       17.8       18.7      …   21.0       21.0       21.0    \n",
       " 396.9      392.83     394.63        396.9      393.45     396.9    \n",
       "   9.14       4.03       2.94          5.64       6.48       7.88   \n",
       "  21.6       34.7       33.4          23.9       22.0       11.9    "
      ]
     },
     "execution_count": 3,
     "metadata": {},
     "output_type": "execute_result"
    }
   ],
   "source": [
    "rawdata = readdlm(\"housing.data\")'"
   ]
  },
  {
   "cell_type": "code",
   "execution_count": 4,
   "metadata": {},
   "outputs": [
    {
     "data": {
      "text/plain": [
       "1×505 Array{Float64,2}:\n",
       " 21.6  34.7  33.4  36.2  28.7  22.9  …  16.8  22.4  20.6  23.9  22.0  11.9"
      ]
     },
     "execution_count": 4,
     "metadata": {},
     "output_type": "execute_result"
    }
   ],
   "source": [
    "x = rawdata[1:13,:]\n",
    "y = rawdata[14:14,:]"
   ]
  },
  {
   "cell_type": "code",
   "execution_count": 5,
   "metadata": {},
   "outputs": [
    {
     "data": {
      "text/plain": [
       "13×505 Array{Float64,2}:\n",
       " -0.417416  -0.417418  -0.416828  …  -0.41353   -0.407858  -0.415081\n",
       " -0.486234  -0.486234  -0.486234     -0.486234  -0.486234  -0.486234\n",
       " -0.595732  -0.595732  -1.30899       0.11315    0.11315    0.11315 \n",
       " -0.272618  -0.272618  -0.272618     -0.272618  -0.272618  -0.272618\n",
       " -0.739098  -0.739098  -0.833934      0.15753    0.15753    0.15753 \n",
       "  0.194741   1.28121    1.01528   …   0.983996   0.725177  -0.361293\n",
       "  0.366208  -0.265527  -0.808535      0.795646   0.735312   0.433641\n",
       "  0.556346   0.556346   1.0759       -0.771891  -0.66685   -0.611768\n",
       " -0.868939  -0.868939  -0.754097     -0.983782  -0.983782  -0.983782\n",
       " -0.987128  -0.987128  -1.10573      -0.803294  -0.803294  -0.803294\n",
       " -0.306024  -0.306024   0.110158  …   1.17373    1.17373    1.17373 \n",
       "  0.441136   0.396591   0.416291      0.441136   0.403377   0.441136\n",
       " -0.494157  -1.20985   -1.36251      -0.984357  -0.866709  -0.670629"
      ]
     },
     "execution_count": 5,
     "metadata": {},
     "output_type": "execute_result"
    }
   ],
   "source": [
    "using Statistics\n",
    "x = (x .- mean(x; dims=2)) ./ std(x; dims=2)"
   ]
  },
  {
   "cell_type": "markdown",
   "metadata": {},
   "source": [
    "#### Model"
   ]
  },
  {
   "cell_type": "code",
   "execution_count": 6,
   "metadata": {},
   "outputs": [
    {
     "data": {
      "text/plain": [
       "(13, 505)"
      ]
     },
     "execution_count": 6,
     "metadata": {},
     "output_type": "execute_result"
    }
   ],
   "source": [
    "size(x)"
   ]
  },
  {
   "cell_type": "code",
   "execution_count": 7,
   "metadata": {},
   "outputs": [],
   "source": [
    "in_dim = size(x, 1)\n",
    "out_dim = size(y, 1);"
   ]
  },
  {
   "cell_type": "code",
   "execution_count": 8,
   "metadata": {},
   "outputs": [
    {
     "data": {
      "text/plain": [
       "1×13 Array{Float64,2}:\n",
       " 0.178337  0.424325  0.549552  0.470526  …  -1.14494  -0.879384  0.0312972"
      ]
     },
     "execution_count": 8,
     "metadata": {},
     "output_type": "execute_result"
    }
   ],
   "source": [
    "randn(out_dim, in_dim)"
   ]
  },
  {
   "cell_type": "code",
   "execution_count": 9,
   "metadata": {},
   "outputs": [
    {
     "data": {
      "text/plain": [
       "Tracked 1-element Array{Float64,1}:\n",
       " 0.0"
      ]
     },
     "execution_count": 9,
     "metadata": {},
     "output_type": "execute_result"
    }
   ],
   "source": [
    "predict(x) = W*x .+ b\n",
    "W = param(randn(out_dim, in_dim) / 10)\n",
    "b = param(zeros(out_dim))"
   ]
  },
  {
   "cell_type": "code",
   "execution_count": 10,
   "metadata": {},
   "outputs": [
    {
     "data": {
      "text/plain": [
       "error (generic function with 1 method)"
      ]
     },
     "execution_count": 10,
     "metadata": {},
     "output_type": "execute_result"
    }
   ],
   "source": [
    "error(ŷ, y) = sum((ŷ .- y).^2)/size(y, 2)"
   ]
  },
  {
   "cell_type": "code",
   "execution_count": 11,
   "metadata": {},
   "outputs": [
    {
     "data": {
      "text/plain": [
       "loss (generic function with 1 method)"
      ]
     },
     "execution_count": 11,
     "metadata": {},
     "output_type": "execute_result"
    }
   ],
   "source": [
    "loss(x, y) = error(predict(x), y)"
   ]
  },
  {
   "cell_type": "code",
   "execution_count": 12,
   "metadata": {},
   "outputs": [
    {
     "data": {
      "text/plain": [
       "update! (generic function with 2 methods)"
      ]
     },
     "execution_count": 12,
     "metadata": {},
     "output_type": "execute_result"
    }
   ],
   "source": [
    "function update!(ps, η = .1)\n",
    "    for w in ps\n",
    "        w.data .-= w.grad .* η\n",
    "        w.grad .= 0\n",
    "    end\n",
    "end"
   ]
  },
  {
   "cell_type": "markdown",
   "metadata": {},
   "source": [
    "#### Training"
   ]
  },
  {
   "cell_type": "code",
   "execution_count": 13,
   "metadata": {},
   "outputs": [
    {
     "name": "stdout",
     "output_type": "stream",
     "text": [
      "loss(x, y) = 368.2685871665087 (tracked)\n",
      "loss(x, y) = 242.59559781790333 (tracked)\n",
      "loss(x, y) = 163.4802444166352 (tracked)\n",
      "loss(x, y) = 113.07753581004344 (tracked)\n",
      "loss(x, y) = 80.89420311357719 (tracked)\n",
      "loss(x, y) = 60.3115898687523 (tracked)\n",
      "loss(x, y) = 47.12524112914884 (tracked)\n",
      "loss(x, y) = 38.6596796649286 (tracked)\n",
      "loss(x, y) = 33.21041119015139 (tracked)\n",
      "loss(x, y) = 29.690455603875545 (tracked)\n",
      "loss(x, y) = 27.40600989157931 (tracked)\n",
      "loss(x, y) = 25.913861609555394 (tracked)\n",
      "loss(x, y) = 24.930651737639874 (tracked)\n",
      "loss(x, y) = 24.275072338227588 (tracked)\n",
      "loss(x, y) = 23.83101144632168 (tracked)\n",
      "loss(x, y) = 23.524035521511657 (tracked)\n",
      "loss(x, y) = 23.30637225574301 (tracked)\n",
      "loss(x, y) = 23.147315300672368 (tracked)\n",
      "loss(x, y) = 23.027089815901835 (tracked)\n",
      "loss(x, y) = 22.932928458220147 (tracked)\n",
      "loss(x, y) = 22.856559986406243 (tracked)\n",
      "loss(x, y) = 22.792601084502685 (tracked)\n",
      "loss(x, y) = 22.7375259756197 (tracked)\n",
      "loss(x, y) = 22.68900581975229 (tracked)\n",
      "loss(x, y) = 22.64548487995813 (tracked)\n",
      "loss(x, y) = 22.60590835922715 (tracked)\n",
      "loss(x, y) = 22.569547443704998 (tracked)\n",
      "loss(x, y) = 22.535886679860393 (tracked)\n",
      "loss(x, y) = 22.504551348458534 (tracked)\n",
      "loss(x, y) = 22.47526052153283 (tracked)\n",
      "loss(x, y) = 22.447796625847204 (tracked)\n",
      "loss(x, y) = 22.421985626926233 (tracked)\n",
      "loss(x, y) = 22.397684056227884 (tracked)\n",
      "loss(x, y) = 22.374770455613586 (tracked)\n",
      "loss(x, y) = 22.353139680020536 (tracked)\n",
      "loss(x, y) = 22.332699055333666 (tracked)\n",
      "loss(x, y) = 22.313365745424242 (tracked)\n",
      "loss(x, y) = 22.295064911610012 (tracked)\n",
      "loss(x, y) = 22.277728395175306 (tracked)\n",
      "loss(x, y) = 22.261293748409607 (tracked)\n",
      "loss(x, y) = 22.245703500692173 (tracked)\n",
      "loss(x, y) = 22.230904585535164 (tracked)\n",
      "loss(x, y) = 22.216847879941774 (tracked)\n",
      "loss(x, y) = 22.203487823908308 (tracked)\n",
      "loss(x, y) = 22.19078209859401 (tracked)\n",
      "loss(x, y) = 22.178691348650112 (tracked)\n",
      "loss(x, y) = 22.16717893876042 (tracked)\n",
      "loss(x, y) = 22.156210737448497 (tracked)\n",
      "loss(x, y) = 22.14575492319841 (tracked)\n",
      "loss(x, y) = 22.135781809270387 (tracked)\n"
     ]
    }
   ],
   "source": [
    "for i = 1:50\n",
    "    back!(loss(x, y))\n",
    "    update!((W, b))\n",
    "    @show loss(x, y)\n",
    "end"
   ]
  },
  {
   "cell_type": "markdown",
   "metadata": {},
   "source": [
    "#### Predict"
   ]
  },
  {
   "cell_type": "code",
   "execution_count": 14,
   "metadata": {},
   "outputs": [
    {
     "data": {
      "text/plain": [
       "Tracked 1-element Array{Float64,1}:\n",
       " 1.1569127534153678"
      ]
     },
     "execution_count": 14,
     "metadata": {},
     "output_type": "execute_result"
    }
   ],
   "source": [
    "predict(x[:, 1]) / y[1]"
   ]
  },
  {
   "cell_type": "markdown",
   "metadata": {},
   "source": [
    "## Training image recognition model"
   ]
  },
  {
   "cell_type": "code",
   "execution_count": 15,
   "metadata": {},
   "outputs": [],
   "source": [
    "using Flux, Flux.Data.MNIST\n",
    "using Flux: @epochs, onehotbatch, onecold, crossentropy, throttle\n",
    "using Base.Iterators: repeated, partition\n",
    "using Statistics: mean\n",
    "# using CuArrays"
   ]
  },
  {
   "cell_type": "markdown",
   "metadata": {},
   "source": [
    "#### Load data and preprocessing"
   ]
  },
  {
   "cell_type": "code",
   "execution_count": 16,
   "metadata": {},
   "outputs": [
    {
     "data": {
      "text/plain": [
       "128"
      ]
     },
     "execution_count": 16,
     "metadata": {},
     "output_type": "execute_result"
    }
   ],
   "source": [
    "batch_size = 128"
   ]
  },
  {
   "cell_type": "code",
   "execution_count": 17,
   "metadata": {},
   "outputs": [
    {
     "data": {
      "text/plain": [
       "minibatch (generic function with 1 method)"
      ]
     },
     "execution_count": 17,
     "metadata": {},
     "output_type": "execute_result"
    }
   ],
   "source": [
    "function minibatch(X, Y, idxs)\n",
    "    X_batch = Array{Float32}(undef, size(X[1])..., 1, length(idxs))\n",
    "    for i in 1:length(idxs)\n",
    "        X_batch[:, :, :, i] = Float32.(X[idxs[i]])\n",
    "    end\n",
    "    Y_batch = onehotbatch(Y[idxs], 0:9)\n",
    "    return (X_batch, Y_batch)\n",
    "end"
   ]
  },
  {
   "cell_type": "code",
   "execution_count": 18,
   "metadata": {},
   "outputs": [],
   "source": [
    "train_labels = MNIST.labels()\n",
    "train_imgs = MNIST.images()\n",
    "mb_idxs = partition(1:length(train_imgs), batch_size)\n",
    "train = [minibatch(train_imgs, train_labels, i) for i in mb_idxs];"
   ]
  },
  {
   "cell_type": "code",
   "execution_count": 19,
   "metadata": {},
   "outputs": [],
   "source": [
    "test_imgs = MNIST.images(:test)\n",
    "test_labels = MNIST.labels(:test)\n",
    "test = minibatch(test_imgs, test_labels, 1:length(test_imgs));"
   ]
  },
  {
   "cell_type": "markdown",
   "metadata": {},
   "source": [
    "#### Model"
   ]
  },
  {
   "cell_type": "code",
   "execution_count": 20,
   "metadata": {},
   "outputs": [
    {
     "data": {
      "text/plain": [
       "Chain(Conv((3, 3), 1=>16, NNlib.relu), MaxPool((2, 2), pad = (0, 0, 0, 0), stride = (2, 2)), Conv((3, 3), 16=>32, NNlib.relu), MaxPool((2, 2), pad = (0, 0, 0, 0), stride = (2, 2)), Conv((3, 3), 32=>32, NNlib.relu), MaxPool((2, 2), pad = (0, 0, 0, 0), stride = (2, 2)), getfield(Main, Symbol(\"##5#6\"))(), Dense(800, 10), NNlib.softmax)"
      ]
     },
     "execution_count": 20,
     "metadata": {},
     "output_type": "execute_result"
    }
   ],
   "source": [
    "model = Chain(\n",
    "    Conv((3, 3), 1=>16, pad=(2,2), relu),\n",
    "    MaxPool((2, 2)),\n",
    "    Conv((3, 3), 16=>32, pad=(2,2), relu),\n",
    "    MaxPool((2, 2)),\n",
    "    Conv((3, 3), 32=>32, pad=(2,2), relu),\n",
    "    MaxPool((2, 2)),\n",
    "    x -> reshape(x, :, size(x, 4)),\n",
    "    Dense(800, 10), softmax)"
   ]
  },
  {
   "cell_type": "code",
   "execution_count": 21,
   "metadata": {},
   "outputs": [
    {
     "data": {
      "text/plain": [
       "Tracked 10×128 Array{Float32,2}:\n",
       " 0.000675618  0.00141853   0.0116668   …  0.00083028  0.000486997  0.00740383\n",
       " 0.410782     0.159657     0.322061       0.554063    0.151973     0.418801  \n",
       " 0.289362     0.173018     0.30027        0.290335    0.53797      0.315213  \n",
       " 0.00211633   0.000282432  0.0273042      0.00085025  0.000195471  0.0046416 \n",
       " 0.00334941   0.00250229   0.00386278     0.00363081  0.00132223   0.0023644 \n",
       " 0.0285557    0.113167     0.0478305   …  0.0231491   0.0803152    0.0241923 \n",
       " 0.22656      0.502208     0.172975       0.102574    0.201386     0.181563  \n",
       " 0.00368573   0.0102504    0.0342856      0.00715553  0.00929782   0.0111739 \n",
       " 0.00264594   0.0241531    0.00200551     0.004639    0.00199022   0.0212224 \n",
       " 0.0322672    0.0133439    0.0777387      0.0127723   0.0150626    0.0134251 "
      ]
     },
     "execution_count": 21,
     "metadata": {},
     "output_type": "execute_result"
    }
   ],
   "source": [
    "model(train[1][1])"
   ]
  },
  {
   "cell_type": "markdown",
   "metadata": {},
   "source": [
    "#### If you have CUDA..."
   ]
  },
  {
   "cell_type": "code",
   "execution_count": 22,
   "metadata": {},
   "outputs": [],
   "source": [
    "# train = gpu.(train)\n",
    "# test = gpu.(test)\n",
    "# model = gpu(model)"
   ]
  },
  {
   "cell_type": "markdown",
   "metadata": {},
   "source": [
    "#### Loss function"
   ]
  },
  {
   "cell_type": "code",
   "execution_count": 23,
   "metadata": {},
   "outputs": [
    {
     "data": {
      "text/plain": [
       "loss (generic function with 1 method)"
      ]
     },
     "execution_count": 23,
     "metadata": {},
     "output_type": "execute_result"
    }
   ],
   "source": [
    "loss(x, y) = crossentropy(model(x), y)"
   ]
  },
  {
   "cell_type": "code",
   "execution_count": 24,
   "metadata": {},
   "outputs": [
    {
     "data": {
      "text/plain": [
       "accuracy (generic function with 1 method)"
      ]
     },
     "execution_count": 24,
     "metadata": {},
     "output_type": "execute_result"
    }
   ],
   "source": [
    "accuracy(x, y) = mean(onecold(model(x)) .== onecold(y))"
   ]
  },
  {
   "cell_type": "markdown",
   "metadata": {},
   "source": [
    "#### Optimizer"
   ]
  },
  {
   "cell_type": "code",
   "execution_count": 25,
   "metadata": {},
   "outputs": [
    {
     "data": {
      "text/plain": [
       "ADAM(0.001, (0.9, 0.999), IdDict{Any,Any}())"
      ]
     },
     "execution_count": 25,
     "metadata": {},
     "output_type": "execute_result"
    }
   ],
   "source": [
    "evalcb() = @show accuracy(test[1], test[2])\n",
    "opt = ADAM()"
   ]
  },
  {
   "cell_type": "code",
   "execution_count": 26,
   "metadata": {},
   "outputs": [
    {
     "data": {
      "text/plain": [
       "4.1391735f0 (tracked)"
      ]
     },
     "execution_count": 26,
     "metadata": {},
     "output_type": "execute_result"
    }
   ],
   "source": [
    "loss(train[1][1], train[1][2])"
   ]
  },
  {
   "cell_type": "markdown",
   "metadata": {},
   "source": [
    "#### Training"
   ]
  },
  {
   "cell_type": "code",
   "execution_count": 27,
   "metadata": {},
   "outputs": [
    {
     "name": "stderr",
     "output_type": "stream",
     "text": [
      "┌ Info: Epoch 1\n",
      "└ @ Main /home/pika/.julia/packages/Flux/qXNjB/src/optimise/train.jl:105\n"
     ]
    },
    {
     "name": "stdout",
     "output_type": "stream",
     "text": [
      "accuracy(test[1], test[2]) = 0.1203\n",
      "accuracy(test[1], test[2]) = 0.5511\n",
      "accuracy(test[1], test[2]) = 0.7974\n",
      "accuracy(test[1], test[2]) = 0.8615\n",
      "accuracy(test[1], test[2]) = 0.8934\n",
      "accuracy(test[1], test[2]) = 0.9126\n",
      "accuracy(test[1], test[2]) = 0.9283\n",
      "accuracy(test[1], test[2]) = 0.9364\n",
      "accuracy(test[1], test[2]) = 0.9276\n",
      "accuracy(test[1], test[2]) = 0.9512\n",
      "accuracy(test[1], test[2]) = 0.9556\n",
      "accuracy(test[1], test[2]) = 0.9571\n",
      "accuracy(test[1], test[2]) = 0.9474\n",
      "accuracy(test[1], test[2]) = 0.9618\n",
      "accuracy(test[1], test[2]) = 0.9643\n",
      "accuracy(test[1], test[2]) = 0.957\n",
      "accuracy(test[1], test[2]) = 0.9652\n",
      "accuracy(test[1], test[2]) = 0.9685\n",
      "accuracy(test[1], test[2]) = 0.9686\n",
      "accuracy(test[1], test[2]) = 0.9729\n",
      "accuracy(test[1], test[2]) = 0.9694\n",
      "accuracy(test[1], test[2]) = 0.9721\n"
     ]
    },
    {
     "name": "stderr",
     "output_type": "stream",
     "text": [
      "┌ Info: Epoch 2\n",
      "└ @ Main /home/pika/.julia/packages/Flux/qXNjB/src/optimise/train.jl:105\n"
     ]
    },
    {
     "name": "stdout",
     "output_type": "stream",
     "text": [
      "accuracy(test[1], test[2]) = 0.9696\n",
      "accuracy(test[1], test[2]) = 0.9706\n",
      "accuracy(test[1], test[2]) = 0.9722\n",
      "accuracy(test[1], test[2]) = 0.9734\n",
      "accuracy(test[1], test[2]) = 0.9578\n",
      "accuracy(test[1], test[2]) = 0.9721\n",
      "accuracy(test[1], test[2]) = 0.9775\n",
      "accuracy(test[1], test[2]) = 0.9752\n",
      "accuracy(test[1], test[2]) = 0.9782\n",
      "accuracy(test[1], test[2]) = 0.9805\n",
      "accuracy(test[1], test[2]) = 0.9771\n",
      "accuracy(test[1], test[2]) = 0.9788\n",
      "accuracy(test[1], test[2]) = 0.9797\n",
      "accuracy(test[1], test[2]) = 0.9771\n",
      "accuracy(test[1], test[2]) = 0.9799\n",
      "accuracy(test[1], test[2]) = 0.9815\n",
      "accuracy(test[1], test[2]) = 0.9816\n",
      "accuracy(test[1], test[2]) = 0.9804\n",
      "accuracy(test[1], test[2]) = 0.9826\n"
     ]
    },
    {
     "name": "stderr",
     "output_type": "stream",
     "text": [
      "┌ Info: Epoch 3\n",
      "└ @ Main /home/pika/.julia/packages/Flux/qXNjB/src/optimise/train.jl:105\n"
     ]
    },
    {
     "name": "stdout",
     "output_type": "stream",
     "text": [
      "accuracy(test[1], test[2]) = 0.981\n",
      "accuracy(test[1], test[2]) = 0.978\n",
      "accuracy(test[1], test[2]) = 0.9813\n",
      "accuracy(test[1], test[2]) = 0.9832\n",
      "accuracy(test[1], test[2]) = 0.9807\n",
      "accuracy(test[1], test[2]) = 0.9848\n",
      "accuracy(test[1], test[2]) = 0.9788\n",
      "accuracy(test[1], test[2]) = 0.9835\n",
      "accuracy(test[1], test[2]) = 0.9839\n",
      "accuracy(test[1], test[2]) = 0.9866\n",
      "accuracy(test[1], test[2]) = 0.9823\n",
      "accuracy(test[1], test[2]) = 0.9845\n",
      "accuracy(test[1], test[2]) = 0.9843\n",
      "accuracy(test[1], test[2]) = 0.986\n",
      "accuracy(test[1], test[2]) = 0.9853\n",
      "accuracy(test[1], test[2]) = 0.9854\n",
      "accuracy(test[1], test[2]) = 0.9821\n",
      "accuracy(test[1], test[2]) = 0.9848\n",
      "accuracy(test[1], test[2]) = 0.9844\n",
      "accuracy(test[1], test[2]) = 0.9849\n"
     ]
    },
    {
     "name": "stderr",
     "output_type": "stream",
     "text": [
      "┌ Info: Epoch 4\n",
      "└ @ Main /home/pika/.julia/packages/Flux/qXNjB/src/optimise/train.jl:105\n"
     ]
    },
    {
     "name": "stdout",
     "output_type": "stream",
     "text": [
      "accuracy(test[1], test[2]) = 0.9853\n",
      "accuracy(test[1], test[2]) = 0.9844\n",
      "accuracy(test[1], test[2]) = 0.9826\n",
      "accuracy(test[1], test[2]) = 0.9852\n",
      "accuracy(test[1], test[2]) = 0.985\n",
      "accuracy(test[1], test[2]) = 0.9862\n",
      "accuracy(test[1], test[2]) = 0.9867\n",
      "accuracy(test[1], test[2]) = 0.986\n",
      "accuracy(test[1], test[2]) = 0.9869\n",
      "accuracy(test[1], test[2]) = 0.9859\n",
      "accuracy(test[1], test[2]) = 0.9868\n",
      "accuracy(test[1], test[2]) = 0.9864\n",
      "accuracy(test[1], test[2]) = 0.9857\n",
      "accuracy(test[1], test[2]) = 0.9869\n",
      "accuracy(test[1], test[2]) = 0.9868\n",
      "accuracy(test[1], test[2]) = 0.9868\n",
      "accuracy(test[1], test[2]) = 0.9874\n",
      "accuracy(test[1], test[2]) = 0.986\n",
      "accuracy(test[1], test[2]) = 0.9859\n",
      "accuracy(test[1], test[2]) = 0.9869\n",
      "accuracy(test[1], test[2]) = 0.9842\n",
      "accuracy(test[1], test[2]) = 0.9864\n"
     ]
    },
    {
     "name": "stderr",
     "output_type": "stream",
     "text": [
      "┌ Info: Epoch 5\n",
      "└ @ Main /home/pika/.julia/packages/Flux/qXNjB/src/optimise/train.jl:105\n"
     ]
    },
    {
     "name": "stdout",
     "output_type": "stream",
     "text": [
      "accuracy(test[1], test[2]) = 0.988\n",
      "accuracy(test[1], test[2]) = 0.9841\n",
      "accuracy(test[1], test[2]) = 0.9865\n",
      "accuracy(test[1], test[2]) = 0.9846\n",
      "accuracy(test[1], test[2]) = 0.9858\n",
      "accuracy(test[1], test[2]) = 0.9825\n",
      "accuracy(test[1], test[2]) = 0.9892\n",
      "accuracy(test[1], test[2]) = 0.9865\n",
      "accuracy(test[1], test[2]) = 0.9896\n",
      "accuracy(test[1], test[2]) = 0.9866\n",
      "accuracy(test[1], test[2]) = 0.9872\n",
      "accuracy(test[1], test[2]) = 0.9892\n",
      "accuracy(test[1], test[2]) = 0.9877\n",
      "accuracy(test[1], test[2]) = 0.9888\n",
      "accuracy(test[1], test[2]) = 0.987\n",
      "accuracy(test[1], test[2]) = 0.9879\n",
      "accuracy(test[1], test[2]) = 0.9861\n",
      "accuracy(test[1], test[2]) = 0.9893\n",
      "accuracy(test[1], test[2]) = 0.9872\n",
      "accuracy(test[1], test[2]) = 0.9837\n",
      "accuracy(test[1], test[2]) = 0.9891\n"
     ]
    },
    {
     "name": "stderr",
     "output_type": "stream",
     "text": [
      "┌ Info: Epoch 6\n",
      "└ @ Main /home/pika/.julia/packages/Flux/qXNjB/src/optimise/train.jl:105\n"
     ]
    },
    {
     "name": "stdout",
     "output_type": "stream",
     "text": [
      "accuracy(test[1], test[2]) = 0.9895\n",
      "accuracy(test[1], test[2]) = 0.9863\n",
      "accuracy(test[1], test[2]) = 0.986\n",
      "accuracy(test[1], test[2]) = 0.9875\n",
      "accuracy(test[1], test[2]) = 0.9784\n",
      "accuracy(test[1], test[2]) = 0.9847\n",
      "accuracy(test[1], test[2]) = 0.9893\n",
      "accuracy(test[1], test[2]) = 0.9868\n",
      "accuracy(test[1], test[2]) = 0.9871\n",
      "accuracy(test[1], test[2]) = 0.9906\n",
      "accuracy(test[1], test[2]) = 0.9869\n",
      "accuracy(test[1], test[2]) = 0.9909\n",
      "accuracy(test[1], test[2]) = 0.989\n",
      "accuracy(test[1], test[2]) = 0.9878\n",
      "accuracy(test[1], test[2]) = 0.9894\n",
      "accuracy(test[1], test[2]) = 0.9877\n",
      "accuracy(test[1], test[2]) = 0.9882\n",
      "accuracy(test[1], test[2]) = 0.9903\n",
      "accuracy(test[1], test[2]) = 0.9893\n",
      "accuracy(test[1], test[2]) = 0.989\n",
      "accuracy(test[1], test[2]) = 0.9847\n",
      "accuracy(test[1], test[2]) = 0.9884\n"
     ]
    },
    {
     "name": "stderr",
     "output_type": "stream",
     "text": [
      "┌ Info: Epoch 7\n",
      "└ @ Main /home/pika/.julia/packages/Flux/qXNjB/src/optimise/train.jl:105\n"
     ]
    },
    {
     "name": "stdout",
     "output_type": "stream",
     "text": [
      "accuracy(test[1], test[2]) = 0.9901\n",
      "accuracy(test[1], test[2]) = 0.9879\n",
      "accuracy(test[1], test[2]) = 0.9863\n",
      "accuracy(test[1], test[2]) = 0.9883\n",
      "accuracy(test[1], test[2]) = 0.9808\n",
      "accuracy(test[1], test[2]) = 0.9831\n",
      "accuracy(test[1], test[2]) = 0.9885\n",
      "accuracy(test[1], test[2]) = 0.988\n",
      "accuracy(test[1], test[2]) = 0.9897\n",
      "accuracy(test[1], test[2]) = 0.9912\n",
      "accuracy(test[1], test[2]) = 0.9887\n",
      "accuracy(test[1], test[2]) = 0.9884\n",
      "accuracy(test[1], test[2]) = 0.9883\n",
      "accuracy(test[1], test[2]) = 0.9889\n",
      "accuracy(test[1], test[2]) = 0.988\n",
      "accuracy(test[1], test[2]) = 0.9885\n",
      "accuracy(test[1], test[2]) = 0.9901\n",
      "accuracy(test[1], test[2]) = 0.9883\n",
      "accuracy(test[1], test[2]) = 0.9833\n",
      "accuracy(test[1], test[2]) = 0.9874\n",
      "accuracy(test[1], test[2]) = 0.9838\n",
      "accuracy(test[1], test[2]) = 0.9871\n"
     ]
    },
    {
     "name": "stderr",
     "output_type": "stream",
     "text": [
      "┌ Info: Epoch 8\n",
      "└ @ Main /home/pika/.julia/packages/Flux/qXNjB/src/optimise/train.jl:105\n"
     ]
    },
    {
     "name": "stdout",
     "output_type": "stream",
     "text": [
      "accuracy(test[1], test[2]) = 0.9908\n",
      "accuracy(test[1], test[2]) = 0.9889\n",
      "accuracy(test[1], test[2]) = 0.988\n",
      "accuracy(test[1], test[2]) = 0.9875\n",
      "accuracy(test[1], test[2]) = 0.9842\n",
      "accuracy(test[1], test[2]) = 0.9829\n",
      "accuracy(test[1], test[2]) = 0.9888\n",
      "accuracy(test[1], test[2]) = 0.9849\n",
      "accuracy(test[1], test[2]) = 0.9865\n",
      "accuracy(test[1], test[2]) = 0.9872\n",
      "accuracy(test[1], test[2]) = 0.9911\n",
      "accuracy(test[1], test[2]) = 0.9903\n",
      "accuracy(test[1], test[2]) = 0.9886\n",
      "accuracy(test[1], test[2]) = 0.986\n",
      "accuracy(test[1], test[2]) = 0.9881\n",
      "accuracy(test[1], test[2]) = 0.9891\n",
      "accuracy(test[1], test[2]) = 0.9908\n",
      "accuracy(test[1], test[2]) = 0.9863\n",
      "accuracy(test[1], test[2]) = 0.9894\n",
      "accuracy(test[1], test[2]) = 0.9857\n",
      "accuracy(test[1], test[2]) = 0.9857\n"
     ]
    },
    {
     "name": "stderr",
     "output_type": "stream",
     "text": [
      "┌ Info: Epoch 9\n",
      "└ @ Main /home/pika/.julia/packages/Flux/qXNjB/src/optimise/train.jl:105\n"
     ]
    },
    {
     "name": "stdout",
     "output_type": "stream",
     "text": [
      "accuracy(test[1], test[2]) = 0.9903\n",
      "accuracy(test[1], test[2]) = 0.9893\n",
      "accuracy(test[1], test[2]) = 0.989\n",
      "accuracy(test[1], test[2]) = 0.9864\n",
      "accuracy(test[1], test[2]) = 0.9818\n",
      "accuracy(test[1], test[2]) = 0.9865\n",
      "accuracy(test[1], test[2]) = 0.9873\n",
      "accuracy(test[1], test[2]) = 0.9897\n",
      "accuracy(test[1], test[2]) = 0.9874\n",
      "accuracy(test[1], test[2]) = 0.9892\n",
      "accuracy(test[1], test[2]) = 0.989\n",
      "accuracy(test[1], test[2]) = 0.9891\n",
      "accuracy(test[1], test[2]) = 0.9894\n",
      "accuracy(test[1], test[2]) = 0.985\n",
      "accuracy(test[1], test[2]) = 0.9897\n",
      "accuracy(test[1], test[2]) = 0.9908\n",
      "accuracy(test[1], test[2]) = 0.9897\n",
      "accuracy(test[1], test[2]) = 0.9878\n",
      "accuracy(test[1], test[2]) = 0.9854\n"
     ]
    },
    {
     "name": "stderr",
     "output_type": "stream",
     "text": [
      "┌ Info: Epoch 10\n",
      "└ @ Main /home/pika/.julia/packages/Flux/qXNjB/src/optimise/train.jl:105\n"
     ]
    },
    {
     "name": "stdout",
     "output_type": "stream",
     "text": [
      "accuracy(test[1], test[2]) = 0.9897\n",
      "accuracy(test[1], test[2]) = 0.9893\n",
      "accuracy(test[1], test[2]) = 0.9827\n",
      "accuracy(test[1], test[2]) = 0.9826\n",
      "accuracy(test[1], test[2]) = 0.9888\n",
      "accuracy(test[1], test[2]) = 0.9884\n",
      "accuracy(test[1], test[2]) = 0.9897\n",
      "accuracy(test[1], test[2]) = 0.9862\n",
      "accuracy(test[1], test[2]) = 0.9863\n",
      "accuracy(test[1], test[2]) = 0.9905\n",
      "accuracy(test[1], test[2]) = 0.9891\n",
      "accuracy(test[1], test[2]) = 0.9857\n",
      "accuracy(test[1], test[2]) = 0.9865\n",
      "accuracy(test[1], test[2]) = 0.9858\n",
      "accuracy(test[1], test[2]) = 0.9902\n",
      "accuracy(test[1], test[2]) = 0.9891\n",
      "accuracy(test[1], test[2]) = 0.9828\n"
     ]
    }
   ],
   "source": [
    "@epochs 10 Flux.train!(loss, params(model), train, opt, cb=throttle(evalcb, 10))"
   ]
  },
  {
   "cell_type": "markdown",
   "metadata": {},
   "source": [
    "## Use pre-trained models"
   ]
  },
  {
   "cell_type": "code",
   "execution_count": 1,
   "metadata": {},
   "outputs": [
    {
     "name": "stderr",
     "output_type": "stream",
     "text": [
      "┌ Info: Recompiling stale cache file /home/pika/.julia/compiled/v1.1/Metalhead/OYscp.ji for Metalhead [dbeba491-748d-5e0e-a39e-b530a07fa0cc]\n",
      "└ @ Base loading.jl:1184\n"
     ]
    }
   ],
   "source": [
    "using Metalhead\n",
    "using Metalhead: classify"
   ]
  },
  {
   "cell_type": "code",
   "execution_count": 2,
   "metadata": {},
   "outputs": [
    {
     "name": "stderr",
     "output_type": "stream",
     "text": [
      "  % Total    % Received % Xferd  Average Speed   Time    Time     Time  Current\n",
      "                                 Dload  Upload   Total   Spent    Left  Speed\n",
      "100   601    0   601    0     0    827      0 --:--:-- --:--:-- --:--:--   828\n",
      "100  548M  100  548M    0     0  1929k      0  0:04:50  0:04:50 --:--:-- 3393k\n"
     ]
    },
    {
     "data": {
      "image/png": "[encoded data removed]",
      "text/plain": [
       "224×224 Array{RGB{N0f8},2} with eltype ColorTypes.RGB{FixedPointNumbers.Normed{UInt8,8}}:\n",
       " RGB{N0f8}(0.667,0.78,0.851)   …  RGB{N0f8}(0.729,0.812,0.878)\n",
       " RGB{N0f8}(0.671,0.784,0.855)     RGB{N0f8}(0.729,0.812,0.878)\n",
       " RGB{N0f8}(0.671,0.784,0.855)     RGB{N0f8}(0.729,0.82,0.882) \n",
       " RGB{N0f8}(0.671,0.784,0.855)     RGB{N0f8}(0.722,0.824,0.882)\n",
       " RGB{N0f8}(0.675,0.788,0.859)     RGB{N0f8}(0.714,0.824,0.878)\n",
       " RGB{N0f8}(0.675,0.788,0.859)  …  RGB{N0f8}(0.702,0.812,0.867)\n",
       " RGB{N0f8}(0.675,0.784,0.867)     RGB{N0f8}(0.69,0.804,0.859) \n",
       " RGB{N0f8}(0.675,0.784,0.867)     RGB{N0f8}(0.675,0.8,0.851)  \n",
       " RGB{N0f8}(0.682,0.792,0.875)     RGB{N0f8}(0.682,0.808,0.859)\n",
       " RGB{N0f8}(0.682,0.792,0.875)     RGB{N0f8}(0.686,0.812,0.863)\n",
       " RGB{N0f8}(0.682,0.792,0.875)  …  RGB{N0f8}(0.69,0.816,0.867) \n",
       " RGB{N0f8}(0.682,0.792,0.878)     RGB{N0f8}(0.69,0.816,0.875) \n",
       " RGB{N0f8}(0.682,0.792,0.878)     RGB{N0f8}(0.694,0.808,0.871)\n",
       " ⋮                             ⋱                              \n",
       " RGB{N0f8}(0.753,0.573,0.443)     RGB{N0f8}(0.682,0.584,0.467)\n",
       " RGB{N0f8}(0.729,0.553,0.424)     RGB{N0f8}(0.682,0.576,0.463)\n",
       " RGB{N0f8}(0.663,0.486,0.365)     RGB{N0f8}(0.6,0.494,0.38)   \n",
       " RGB{N0f8}(0.514,0.337,0.216)  …  RGB{N0f8}(0.58,0.475,0.369) \n",
       " RGB{N0f8}(0.694,0.518,0.396)     RGB{N0f8}(0.635,0.529,0.424)\n",
       " RGB{N0f8}(0.733,0.557,0.435)     RGB{N0f8}(0.502,0.396,0.29) \n",
       " RGB{N0f8}(0.706,0.537,0.412)     RGB{N0f8}(0.553,0.435,0.333)\n",
       " RGB{N0f8}(0.714,0.541,0.427)     RGB{N0f8}(0.557,0.439,0.337)\n",
       " RGB{N0f8}(0.698,0.525,0.412)  …  RGB{N0f8}(0.494,0.376,0.282)\n",
       " RGB{N0f8}(0.655,0.482,0.369)     RGB{N0f8}(0.557,0.439,0.345)\n",
       " RGB{N0f8}(0.675,0.502,0.388)     RGB{N0f8}(0.584,0.467,0.373)\n",
       " RGB{N0f8}(0.682,0.51,0.396)      RGB{N0f8}(0.525,0.408,0.314)"
      ]
     },
     "execution_count": 2,
     "metadata": {},
     "output_type": "execute_result"
    }
   ],
   "source": [
    "vgg = VGG19()\n",
    "sample = load(\"Elephant.jpg\")"
   ]
  },
  {
   "cell_type": "code",
   "execution_count": 3,
   "metadata": {},
   "outputs": [
    {
     "data": {
      "text/plain": [
       "\"African elephant, Loxodonta africana\""
      ]
     },
     "execution_count": 3,
     "metadata": {},
     "output_type": "execute_result"
    }
   ],
   "source": [
    "classify(vgg, sample)"
   ]
  },
  {
   "cell_type": "code",
   "execution_count": 4,
   "metadata": {},
   "outputs": [
    {
     "data": {
      "text/plain": [
       "1000×1 Array{Float32,2}:\n",
       " 0.000187773  \n",
       " 0.0013457881 \n",
       " 0.00065416825\n",
       " 0.001516063  \n",
       " 0.002159681  \n",
       " 0.0019295159 \n",
       " 0.0075571863 \n",
       " 0.00018473195\n",
       " 0.00027696704\n",
       " 0.00024519698\n",
       " 0.0007056092 \n",
       " 0.00031168468\n",
       " 0.0004319956 \n",
       " ⋮            \n",
       " 0.00045793416\n",
       " 0.00017459881\n",
       " 4.0051324e-5 \n",
       " 6.417853e-5  \n",
       " 0.00015019011\n",
       " 2.528941e-5  \n",
       " 0.0001304593 \n",
       " 0.00019681951\n",
       " 0.0001480493 \n",
       " 0.00012605563\n",
       " 0.00017881978\n",
       " 0.020072509  "
      ]
     },
     "execution_count": 4,
     "metadata": {},
     "output_type": "execute_result"
    }
   ],
   "source": [
    "x = rand(Float32, 224, 224, 3, 1)\n",
    "vgg(x)"
   ]
  },
  {
   "cell_type": "code",
   "execution_count": 5,
   "metadata": {},
   "outputs": [
    {
     "data": {
      "text/plain": [
       "Chain(Conv((3, 3), 3=>64, NNlib.relu), Conv((3, 3), 64=>64, NNlib.relu), MaxPool((2, 2), pad = (0, 0, 0, 0), stride = (2, 2)), Conv((3, 3), 64=>128, NNlib.relu), Conv((3, 3), 128=>128, NNlib.relu), MaxPool((2, 2), pad = (0, 0, 0, 0), stride = (2, 2)), Conv((3, 3), 128=>256, NNlib.relu), Conv((3, 3), 256=>256, NNlib.relu), Conv((3, 3), 256=>256, NNlib.relu), Conv((3, 3), 256=>256, NNlib.relu), MaxPool((2, 2), pad = (0, 0, 0, 0), stride = (2, 2)), Conv((3, 3), 256=>512, NNlib.relu), Conv((3, 3), 512=>512, NNlib.relu), Conv((3, 3), 512=>512, NNlib.relu), Conv((3, 3), 512=>512, NNlib.relu), MaxPool((2, 2), pad = (0, 0, 0, 0), stride = (2, 2)), Conv((3, 3), 512=>512, NNlib.relu), Conv((3, 3), 512=>512, NNlib.relu), Conv((3, 3), 512=>512, NNlib.relu), Conv((3, 3), 512=>512, NNlib.relu), MaxPool((2, 2), pad = (0, 0, 0, 0), stride = (2, 2)), getfield(Metalhead, Symbol(\"##44#45\"))(), Dense(25088, 4096, NNlib.relu), Flux.Dropout{Float32}(0.5f0, false), Dense(4096, 4096, NNlib.relu), Flux.Dropout{Float32}(0.5f0, false), Dense(4096, 1000), NNlib.softmax)"
      ]
     },
     "execution_count": 5,
     "metadata": {},
     "output_type": "execute_result"
    }
   ],
   "source": [
    "vgg.layers"
   ]
  },
  {
   "cell_type": "markdown",
   "metadata": {},
   "source": [
    "### Models available:\n",
    "\n",
    "* GoogLeNet\n",
    "* ResNet\n",
    "* VGG\n",
    "* SqueezeNet\n",
    "* DenseNet"
   ]
  }
 ],
 "metadata": {
  "kernelspec": {
   "display_name": "Julia 1.1.0",
   "language": "julia",
   "name": "julia-1.1"
  },
  "language_info": {
   "file_extension": ".jl",
   "mimetype": "application/julia",
   "name": "julia",
   "version": "1.1.0"
  }
 },
 "nbformat": 4,
 "nbformat_minor": 2
}
